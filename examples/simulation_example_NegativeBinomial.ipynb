{
 "cells": [
  {
   "cell_type": "markdown",
   "metadata": {},
   "source": [
    "[![Open in Colab](https://colab.research.google.com/assets/colab-badge.svg)](https://colab.research.google.com/github/StatMixedML/LightGBMLSS/blob/master/examples/simulation_example_NegativeBinomial.ipynb)"
   ]
  },
  {
   "cell_type": "markdown",
   "metadata": {},
   "source": [
    "# Imports"
   ]
  },
  {
   "cell_type": "code",
   "execution_count": null,
   "metadata": {
    "ExecuteTime": {
     "end_time": "2023-05-18T06:57:02.291276100Z",
     "start_time": "2023-05-18T06:57:02.177579400Z"
    }
   },
   "outputs": [],
   "source": [
    "from lightgbmlss.model import *\n",
    "from lightgbmlss.distributions.NegativeBinomial import *\n",
    "\n",
    "from sklearn.datasets import make_regression\n",
    "from sklearn.model_selection import train_test_split"
   ]
  },
  {
   "cell_type": "markdown",
   "metadata": {},
   "source": [
    "# Data"
   ]
  },
  {
   "cell_type": "code",
   "execution_count": 2,
   "metadata": {
    "ExecuteTime": {
     "end_time": "2023-05-18T06:51:53.913176400Z",
     "start_time": "2023-05-18T06:51:53.050199200Z"
    }
   },
   "outputs": [],
   "source": [
    "def custom_transform(y, constr_val):\n",
    "    # Apply a custom transformation to restrict y between 0 and constr_val\n",
    "    transformed_y = np.abs(y)  # Example transformation: logarithmic\n",
    "    constrained_y = constr_val * transformed_y / np.max(transformed_y)  # Scale to desired range\n",
    "    int_y = constrained_y.astype(int)\n",
    "    return int_y\n",
    "\n",
    "# Generate a custom dataset\n",
    "X, y = make_regression(n_samples=5000, n_features=10, n_informative=2, random_state=123)\n",
    "\n",
    "# Apply the custom transformation\n",
    "y = custom_transform(y, 50)\n",
    "\n",
    "# Split into train and test\n",
    "X_train, X_test, y_train, y_test = train_test_split(X, y, test_size=0.2, random_state=123)\n",
    "\n",
    "dtrain = lgb.Dataset(X_train, label=y_train)"
   ]
  },
  {
   "cell_type": "markdown",
   "metadata": {},
   "source": [
    "# Distribution Selection"
   ]
  },
  {
   "cell_type": "code",
   "execution_count": 3,
   "metadata": {
    "ExecuteTime": {
     "end_time": "2023-05-18T06:51:53.928136100Z",
     "start_time": "2023-05-18T06:51:53.911318300Z"
    }
   },
   "outputs": [],
   "source": [
    "# Specifies NegativeBinomial distribution with corresponding response functions and option to stabilize Gradient/Hessian. See ?NegativeBinomial for more information.\n",
    "lgblss = LightGBMLSS(\n",
    "    NegativeBinomial(stabilization=\"None\",              # Options are \"None\", \"MAD\", \"L2\".\n",
    "                     response_fn_total_count=\"relu\",    # Function to transform the total_count-parameter, e.g., \"exp\", \"softplus\" or \"relu\".\n",
    "                     response_fn_probs=\"sigmoid\",       # Function to transform the probs-parameter, e.g., \"sigmoid\".\n",
    "                     loss_fn=\"nll\"                      # Loss function. Options are \"nll\" (negative log-likelihood) or \"crps\"(continuous ranked probability score).\n",
    "                    )\n",
    ")"
   ]
  },
  {
   "cell_type": "markdown",
   "metadata": {},
   "source": [
    "# Hyper-Parameter Optimization"
   ]
  },
  {
   "cell_type": "code",
   "execution_count": 4,
   "metadata": {
    "ExecuteTime": {
     "end_time": "2023-05-18T06:56:59.310252600Z",
     "start_time": "2023-05-18T06:51:54.046821100Z"
    }
   },
   "outputs": [
    {
     "name": "stderr",
     "output_type": "stream",
     "text": [
      "\u001b[32m[I 2023-05-23 17:29:42,931]\u001b[0m A new study created in memory with name: LightGBMLSS Hyper-Parameter Optimization\u001b[0m\n",
      "C:\\Users\\maerzale\\.virtualenvs\\LightGBMLSS-Dam57Fpb\\lib\\site-packages\\optuna\\progress_bar.py:56: ExperimentalWarning: Progress bar is experimental (supported from v1.2.0). The interface can change in the future.\n"
     ]
    },
    {
     "data": {
      "application/vnd.jupyter.widget-view+json": {
       "model_id": "9ad4aada40064079a36e30d27877f6d9",
       "version_major": 2,
       "version_minor": 0
      },
      "text/plain": [
       "   0%|          | 00:00/05:00"
      ]
     },
     "metadata": {},
     "output_type": "display_data"
    },
    {
     "name": "stdout",
     "output_type": "stream",
     "text": [
      "\u001b[32m[I 2023-05-23 17:29:45,843]\u001b[0m Trial 0 finished with value: 2362.6454823420363 and parameters: {'eta': 0.2237494745725795, 'max_depth': 8, 'num_leaves': 255, 'min_data_in_leaf': 20, 'min_gain_to_split': 21.718229204152497, 'min_sum_hessian_in_leaf': 0.41610733461582017, 'subsample': 0.5489136781162185, 'feature_fraction': 0.6795070894088597, 'boosting': 'gbdt'}. Best is trial 0 with value: 2362.6454823420363.\u001b[0m\n",
      "\u001b[32m[I 2023-05-23 17:29:51,154]\u001b[0m Trial 1 finished with value: 2391.3637035325364 and parameters: {'eta': 0.02993587048561261, 'max_depth': 10, 'num_leaves': 255, 'min_data_in_leaf': 20, 'min_gain_to_split': 8.375534018622261, 'min_sum_hessian_in_leaf': 0.0007753281443770188, 'subsample': 0.7819790850797737, 'feature_fraction': 0.2656157036043193, 'boosting': 'gbdt'}. Best is trial 0 with value: 2362.6454823420363.\u001b[0m\n",
      "\u001b[32m[I 2023-05-23 17:29:57,721]\u001b[0m Trial 2 finished with value: 2623.1299437982134 and parameters: {'eta': 0.0003193057644574507, 'max_depth': 5, 'num_leaves': 255, 'min_data_in_leaf': 20, 'min_gain_to_split': 23.97626450189067, 'min_sum_hessian_in_leaf': 3.2933540258954417, 'subsample': 0.3670045093424384, 'feature_fraction': 0.8373817369882068, 'boosting': 'gbdt'}. Best is trial 0 with value: 2362.6454823420363.\u001b[0m\n",
      "\u001b[32m[I 2023-05-23 17:30:05,054]\u001b[0m Trial 3 finished with value: 2627.8631382661983 and parameters: {'eta': 0.0003943692191718305, 'max_depth': 4, 'num_leaves': 255, 'min_data_in_leaf': 20, 'min_gain_to_split': 8.339211480675464, 'min_sum_hessian_in_leaf': 0.006141165700569994, 'subsample': 0.5706046622783398, 'feature_fraction': 0.6163495990468459, 'boosting': 'gbdt'}. Best is trial 0 with value: 2362.6454823420363.\u001b[0m\n",
      "\u001b[32m[I 2023-05-23 17:30:12,699]\u001b[0m Trial 4 finished with value: 2565.5259588715003 and parameters: {'eta': 0.0014262691550398058, 'max_depth': 5, 'num_leaves': 255, 'min_data_in_leaf': 20, 'min_gain_to_split': 7.219831849234432, 'min_sum_hessian_in_leaf': 1.5936701835149663, 'subsample': 0.5354838253750538, 'feature_fraction': 0.788024946379748, 'boosting': 'gbdt'}. Best is trial 0 with value: 2362.6454823420363.\u001b[0m\n",
      "\u001b[32m[I 2023-05-23 17:30:19,514]\u001b[0m Trial 5 finished with value: 2631.346853451946 and parameters: {'eta': 0.0022084824843702066, 'max_depth': 7, 'num_leaves': 255, 'min_data_in_leaf': 20, 'min_gain_to_split': 10.86638765193509, 'min_sum_hessian_in_leaf': 103.92774184129252, 'subsample': 0.3622280593782978, 'feature_fraction': 0.2389145946470812, 'boosting': 'gbdt'}. Best is trial 0 with value: 2362.6454823420363.\u001b[0m\n",
      "\u001b[32m[I 2023-05-23 17:30:26,608]\u001b[0m Trial 6 finished with value: 2612.9684412363945 and parameters: {'eta': 0.0008209854898713998, 'max_depth': 3, 'num_leaves': 255, 'min_data_in_leaf': 20, 'min_gain_to_split': 18.673462014081853, 'min_sum_hessian_in_leaf': 0.0010218570238958342, 'subsample': 0.41686832678116215, 'feature_fraction': 0.8114911457397536, 'boosting': 'gbdt'}. Best is trial 0 with value: 2362.6454823420363.\u001b[0m\n",
      "\u001b[32m[I 2023-05-23 17:30:33,724]\u001b[0m Trial 7 finished with value: 2532.562604268222 and parameters: {'eta': 0.003669296449292923, 'max_depth': 8, 'num_leaves': 255, 'min_data_in_leaf': 20, 'min_gain_to_split': 23.684189735941473, 'min_sum_hessian_in_leaf': 2.7800236286073807, 'subsample': 0.6318847745762357, 'feature_fraction': 0.4719848016495097, 'boosting': 'gbdt'}. Best is trial 0 with value: 2362.6454823420363.\u001b[0m\n",
      "\u001b[32m[I 2023-05-23 17:30:41,128]\u001b[0m Trial 8 finished with value: 2595.6401025229907 and parameters: {'eta': 0.0007935716589829182, 'max_depth': 10, 'num_leaves': 255, 'min_data_in_leaf': 20, 'min_gain_to_split': 14.44064799437206, 'min_sum_hessian_in_leaf': 6.703126821891454e-06, 'subsample': 0.5797709222455096, 'feature_fraction': 0.6389164300692631, 'boosting': 'gbdt'}. Best is trial 0 with value: 2362.6454823420363.\u001b[0m\n",
      "\u001b[32m[I 2023-05-23 17:30:48,262]\u001b[0m Trial 9 finished with value: 2640.7847464386095 and parameters: {'eta': 1.1344436912426338e-05, 'max_depth': 7, 'num_leaves': 255, 'min_data_in_leaf': 20, 'min_gain_to_split': 10.222627040352023, 'min_sum_hessian_in_leaf': 3.9161873129620988, 'subsample': 0.8997126328434504, 'feature_fraction': 0.3669305529286317, 'boosting': 'gbdt'}. Best is trial 0 with value: 2362.6454823420363.\u001b[0m\n",
      "\u001b[32m[I 2023-05-23 17:30:50,315]\u001b[0m Trial 10 pruned. Trial was pruned at iteration 20.\u001b[0m\n",
      "\u001b[32m[I 2023-05-23 17:30:57,316]\u001b[0m Trial 11 finished with value: 2485.0299401077405 and parameters: {'eta': 0.14061339325391398, 'max_depth': 10, 'num_leaves': 255, 'min_data_in_leaf': 20, 'min_gain_to_split': 3.3176056564845595, 'min_sum_hessian_in_leaf': 0.006341526111724655, 'subsample': 0.7866760261119364, 'feature_fraction': 0.2134887893636273, 'boosting': 'gbdt'}. Best is trial 0 with value: 2362.6454823420363.\u001b[0m\n",
      "\u001b[32m[I 2023-05-23 17:31:04,267]\u001b[0m Trial 12 finished with value: 2510.2544355205596 and parameters: {'eta': 0.05675290675580147, 'max_depth': 1, 'num_leaves': 255, 'min_data_in_leaf': 20, 'min_gain_to_split': 2.003583949003545, 'min_sum_hessian_in_leaf': 0.00016908985604525037, 'subsample': 0.7816141992035248, 'feature_fraction': 0.46873459066130746, 'boosting': 'gbdt'}. Best is trial 0 with value: 2362.6454823420363.\u001b[0m\n",
      "\u001b[32m[I 2023-05-23 17:31:11,235]\u001b[0m Trial 13 finished with value: 2434.691068953821 and parameters: {'eta': 0.035842318641714506, 'max_depth': 9, 'num_leaves': 255, 'min_data_in_leaf': 20, 'min_gain_to_split': 15.947278462239742, 'min_sum_hessian_in_leaf': 0.07586714684559995, 'subsample': 0.7081152982246103, 'feature_fraction': 0.3586290776759057, 'boosting': 'gbdt'}. Best is trial 0 with value: 2362.6454823420363.\u001b[0m\n",
      "\u001b[32m[I 2023-05-23 17:31:13,354]\u001b[0m Trial 14 finished with value: 2405.968047461268 and parameters: {'eta': 0.8255422981199733, 'max_depth': 9, 'num_leaves': 255, 'min_data_in_leaf': 20, 'min_gain_to_split': 39.50047511005906, 'min_sum_hessian_in_leaf': 3.2204109714104947e-05, 'subsample': 0.9694361903452793, 'feature_fraction': 0.5310595744689661, 'boosting': 'gbdt'}. Best is trial 0 with value: 2362.6454823420363.\u001b[0m\n",
      "\u001b[32m[I 2023-05-23 17:31:20,360]\u001b[0m Trial 15 finished with value: 2379.9450329268884 and parameters: {'eta': 0.013851953984282158, 'max_depth': 7, 'num_leaves': 255, 'min_data_in_leaf': 20, 'min_gain_to_split': 22.714437031568835, 'min_sum_hessian_in_leaf': 0.052384031718501985, 'subsample': 0.6944191500532103, 'feature_fraction': 0.6724673155456391, 'boosting': 'gbdt'}. Best is trial 0 with value: 2362.6454823420363.\u001b[0m\n",
      "\u001b[32m[I 2023-05-23 17:31:27,508]\u001b[0m Trial 16 finished with value: 2393.1921848071834 and parameters: {'eta': 0.010281869632474622, 'max_depth': 7, 'num_leaves': 255, 'min_data_in_leaf': 20, 'min_gain_to_split': 23.351756834693404, 'min_sum_hessian_in_leaf': 0.10151892027266446, 'subsample': 0.4897500323768813, 'feature_fraction': 0.6724458605458586, 'boosting': 'gbdt'}. Best is trial 0 with value: 2362.6454823420363.\u001b[0m\n",
      "\u001b[32m[I 2023-05-23 17:31:29,574]\u001b[0m Trial 17 finished with value: 2480.3819878566637 and parameters: {'eta': 0.2805850135216093, 'max_depth': 6, 'num_leaves': 255, 'min_data_in_leaf': 20, 'min_gain_to_split': 28.483058842088965, 'min_sum_hessian_in_leaf': 308.68527211100513, 'subsample': 0.6592915334148823, 'feature_fraction': 0.7329451535145914, 'boosting': 'gbdt'}. Best is trial 0 with value: 2362.6454823420363.\u001b[0m\n",
      "\u001b[32m[I 2023-05-23 17:31:32,549]\u001b[0m Trial 18 finished with value: 2377.9336991893247 and parameters: {'eta': 0.11387471034399045, 'max_depth': 6, 'num_leaves': 255, 'min_data_in_leaf': 20, 'min_gain_to_split': 20.139582479113876, 'min_sum_hessian_in_leaf': 0.06652271915542315, 'subsample': 0.46811038072509037, 'feature_fraction': 0.5628397906517216, 'boosting': 'gbdt'}. Best is trial 0 with value: 2362.6454823420363.\u001b[0m\n",
      "\u001b[32m[I 2023-05-23 17:31:35,514]\u001b[0m Trial 19 finished with value: 2388.9855898958435 and parameters: {'eta': 0.16981432110206116, 'max_depth': 3, 'num_leaves': 255, 'min_data_in_leaf': 20, 'min_gain_to_split': 18.136651877041942, 'min_sum_hessian_in_leaf': 42.072023397491115, 'subsample': 0.5025399122554826, 'feature_fraction': 0.5766245570763258, 'boosting': 'gbdt'}. Best is trial 0 with value: 2362.6454823420363.\u001b[0m\n",
      "\u001b[32m[I 2023-05-23 17:31:37,648]\u001b[0m Trial 20 finished with value: 2363.732245690417 and parameters: {'eta': 0.4372857275137455, 'max_depth': 6, 'num_leaves': 255, 'min_data_in_leaf': 20, 'min_gain_to_split': 14.073826823263609, 'min_sum_hessian_in_leaf': 0.26501464839624383, 'subsample': 0.44396373816325235, 'feature_fraction': 0.5522689203937352, 'boosting': 'gbdt'}. Best is trial 0 with value: 2362.6454823420363.\u001b[0m\n",
      "\u001b[32m[I 2023-05-23 17:31:39,863]\u001b[0m Trial 21 finished with value: 2362.524736051979 and parameters: {'eta': 0.34556990800519055, 'max_depth': 6, 'num_leaves': 255, 'min_data_in_leaf': 20, 'min_gain_to_split': 14.255512468522362, 'min_sum_hessian_in_leaf': 0.693320417184206, 'subsample': 0.45856093769809725, 'feature_fraction': 0.5465936335854907, 'boosting': 'gbdt'}. Best is trial 21 with value: 2362.524736051979.\u001b[0m\n",
      "\u001b[32m[I 2023-05-23 17:31:42,086]\u001b[0m Trial 22 finished with value: 2422.7315118540146 and parameters: {'eta': 0.36138700004612195, 'max_depth': 4, 'num_leaves': 255, 'min_data_in_leaf': 20, 'min_gain_to_split': 13.575809323111534, 'min_sum_hessian_in_leaf': 0.492364172045369, 'subsample': 0.424257577580033, 'feature_fraction': 0.5142555643940006, 'boosting': 'gbdt'}. Best is trial 21 with value: 2362.524736051979.\u001b[0m\n",
      "\u001b[32m[I 2023-05-23 17:31:44,298]\u001b[0m Trial 23 finished with value: 2326.6489839222204 and parameters: {'eta': 0.48041844540678624, 'max_depth': 8, 'num_leaves': 255, 'min_data_in_leaf': 20, 'min_gain_to_split': 13.484345479556708, 'min_sum_hessian_in_leaf': 16.431071107898838, 'subsample': 0.5624857227813972, 'feature_fraction': 0.6123630330183538, 'boosting': 'gbdt'}. Best is trial 23 with value: 2326.6489839222204.\u001b[0m\n",
      "\u001b[32m[I 2023-05-23 17:31:46,198]\u001b[0m Trial 24 pruned. Trial was pruned at iteration 20.\u001b[0m\n",
      "\u001b[32m[I 2023-05-23 17:31:49,638]\u001b[0m Trial 25 finished with value: 2455.753399349311 and parameters: {'eta': 0.09274107137257977, 'max_depth': 9, 'num_leaves': 255, 'min_data_in_leaf': 20, 'min_gain_to_split': 12.037440566858024, 'min_sum_hessian_in_leaf': 415.87564211338184, 'subsample': 0.5329968439672376, 'feature_fraction': 0.6180810201843444, 'boosting': 'gbdt'}. Best is trial 23 with value: 2326.6489839222204.\u001b[0m\n",
      "\u001b[32m[I 2023-05-23 17:31:51,956]\u001b[0m Trial 26 finished with value: 2337.9999985467084 and parameters: {'eta': 0.3198761042660349, 'max_depth': 8, 'num_leaves': 255, 'min_data_in_leaf': 20, 'min_gain_to_split': 17.362250870635982, 'min_sum_hessian_in_leaf': 21.916990640862718, 'subsample': 0.6307392213285038, 'feature_fraction': 0.6034895857694762, 'boosting': 'gbdt'}. Best is trial 23 with value: 2326.6489839222204.\u001b[0m\n",
      "\u001b[32m[I 2023-05-23 17:31:54,205]\u001b[0m Trial 27 finished with value: 2342.8801951807536 and parameters: {'eta': 0.37383407365164384, 'max_depth': 9, 'num_leaves': 255, 'min_data_in_leaf': 20, 'min_gain_to_split': 16.8456939886239, 'min_sum_hessian_in_leaf': 26.35122966162377, 'subsample': 0.6227501147607917, 'feature_fraction': 0.5985785240866417, 'boosting': 'gbdt'}. Best is trial 23 with value: 2326.6489839222204.\u001b[0m\n",
      "\u001b[32m[I 2023-05-23 17:31:57,606]\u001b[0m Trial 28 finished with value: 2361.158874178057 and parameters: {'eta': 0.0785487440687128, 'max_depth': 9, 'num_leaves': 255, 'min_data_in_leaf': 20, 'min_gain_to_split': 18.125916260614158, 'min_sum_hessian_in_leaf': 20.79584132909297, 'subsample': 0.6221006363725866, 'feature_fraction': 0.6066570638274086, 'boosting': 'gbdt'}. Best is trial 23 with value: 2326.6489839222204.\u001b[0m\n",
      "\u001b[32m[I 2023-05-23 17:31:59,727]\u001b[0m Trial 29 finished with value: 2367.1929996325844 and parameters: {'eta': 0.21238760340231297, 'max_depth': 8, 'num_leaves': 255, 'min_data_in_leaf': 20, 'min_gain_to_split': 20.92826562733092, 'min_sum_hessian_in_leaf': 18.417894683158824, 'subsample': 0.669890431142174, 'feature_fraction': 0.7294069371245535, 'boosting': 'gbdt'}. Best is trial 23 with value: 2326.6489839222204.\u001b[0m\n",
      "\u001b[32m[I 2023-05-23 17:32:02,052]\u001b[0m Trial 30 finished with value: 2394.8728840212125 and parameters: {'eta': 0.4411267672169036, 'max_depth': 9, 'num_leaves': 255, 'min_data_in_leaf': 20, 'min_gain_to_split': 5.775214524227474, 'min_sum_hessian_in_leaf': 153.1182095288567, 'subsample': 0.5975404530271493, 'feature_fraction': 0.4753151586692447, 'boosting': 'gbdt'}. Best is trial 23 with value: 2326.6489839222204.\u001b[0m\n",
      "\u001b[32m[I 2023-05-23 17:32:05,629]\u001b[0m Trial 31 finished with value: 2347.181534280952 and parameters: {'eta': 0.07872931297026926, 'max_depth': 9, 'num_leaves': 255, 'min_data_in_leaf': 20, 'min_gain_to_split': 17.549321224257636, 'min_sum_hessian_in_leaf': 17.059907860856622, 'subsample': 0.624900603204972, 'feature_fraction': 0.6061742100950961, 'boosting': 'gbdt'}. Best is trial 23 with value: 2326.6489839222204.\u001b[0m\n",
      "\u001b[32m[I 2023-05-23 17:32:08,140]\u001b[0m Trial 32 finished with value: 2328.7471642655028 and parameters: {'eta': 0.1973042598097023, 'max_depth': 10, 'num_leaves': 255, 'min_data_in_leaf': 20, 'min_gain_to_split': 16.62736748492315, 'min_sum_hessian_in_leaf': 9.125298639304418, 'subsample': 0.7202093475107586, 'feature_fraction': 0.6198991930466521, 'boosting': 'gbdt'}. Best is trial 23 with value: 2326.6489839222204.\u001b[0m\n",
      "\u001b[32m[I 2023-05-23 17:32:10,998]\u001b[0m Trial 33 finished with value: 2298.6721740924013 and parameters: {'eta': 0.17803868809627144, 'max_depth': 10, 'num_leaves': 255, 'min_data_in_leaf': 20, 'min_gain_to_split': 11.180551086747291, 'min_sum_hessian_in_leaf': 5.941223084296848, 'subsample': 0.7044395005683846, 'feature_fraction': 0.6512665609282323, 'boosting': 'gbdt'}. Best is trial 33 with value: 2298.6721740924013.\u001b[0m\n",
      "\u001b[32m[I 2023-05-23 17:32:15,761]\u001b[0m Trial 34 finished with value: 2288.310725119945 and parameters: {'eta': 0.04269902087327984, 'max_depth': 10, 'num_leaves': 255, 'min_data_in_leaf': 20, 'min_gain_to_split': 10.327585984239349, 'min_sum_hessian_in_leaf': 6.153929451386866, 'subsample': 0.7460618046807748, 'feature_fraction': 0.6979232506912373, 'boosting': 'gbdt'}. Best is trial 34 with value: 2288.310725119945.\u001b[0m\n",
      "\u001b[32m[I 2023-05-23 17:32:21,568]\u001b[0m Trial 35 finished with value: 2301.1912863650805 and parameters: {'eta': 0.032750934241078125, 'max_depth': 10, 'num_leaves': 255, 'min_data_in_leaf': 20, 'min_gain_to_split': 11.968960432565158, 'min_sum_hessian_in_leaf': 3.565962093638854, 'subsample': 0.7242452532512303, 'feature_fraction': 0.676646365887166, 'boosting': 'gbdt'}. Best is trial 34 with value: 2288.310725119945.\u001b[0m\n",
      "\u001b[32m[I 2023-05-23 17:32:26,398]\u001b[0m Trial 36 finished with value: 2278.9083548948374 and parameters: {'eta': 0.03760315712287438, 'max_depth': 10, 'num_leaves': 255, 'min_data_in_leaf': 20, 'min_gain_to_split': 10.31982551796113, 'min_sum_hessian_in_leaf': 1.8902616256990257, 'subsample': 0.7553375646342636, 'feature_fraction': 0.7675486539088038, 'boosting': 'gbdt'}. Best is trial 36 with value: 2278.9083548948374.\u001b[0m\n",
      "\u001b[32m[I 2023-05-23 17:32:31,837]\u001b[0m Trial 37 finished with value: 2269.2143955976367 and parameters: {'eta': 0.031145173663260313, 'max_depth': 10, 'num_leaves': 255, 'min_data_in_leaf': 20, 'min_gain_to_split': 8.952859571921808, 'min_sum_hessian_in_leaf': 3.0772038834652715, 'subsample': 0.7709696860517249, 'feature_fraction': 0.7701635257519885, 'boosting': 'gbdt'}. Best is trial 37 with value: 2269.2143955976367.\u001b[0m\n",
      "\u001b[32m[I 2023-05-23 17:32:33,736]\u001b[0m Trial 38 pruned. Trial was pruned at iteration 20.\u001b[0m\n",
      "\u001b[32m[I 2023-05-23 17:32:38,801]\u001b[0m Trial 39 finished with value: 2316.269695587194 and parameters: {'eta': 0.04173267653504825, 'max_depth': 10, 'num_leaves': 255, 'min_data_in_leaf': 20, 'min_gain_to_split': 6.89728898162554, 'min_sum_hessian_in_leaf': 77.90819993951197, 'subsample': 0.8510010952323241, 'feature_fraction': 0.8386166008506785, 'boosting': 'gbdt'}. Best is trial 37 with value: 2269.2143955976367.\u001b[0m\n",
      "\u001b[32m[I 2023-05-23 17:32:40,919]\u001b[0m Trial 40 pruned. Trial was pruned at iteration 20.\u001b[0m\n",
      "\u001b[32m[I 2023-05-23 17:32:43,050]\u001b[0m Trial 41 pruned. Trial was pruned at iteration 20.\u001b[0m\n",
      "\u001b[32m[I 2023-05-23 17:32:48,767]\u001b[0m Trial 42 finished with value: 2245.070069471738 and parameters: {'eta': 0.042173847501786106, 'max_depth': 10, 'num_leaves': 255, 'min_data_in_leaf': 20, 'min_gain_to_split': 5.6188158422858985, 'min_sum_hessian_in_leaf': 1.7629752758962243, 'subsample': 0.8016798146120535, 'feature_fraction': 0.7496454044538944, 'boosting': 'gbdt'}. Best is trial 42 with value: 2245.070069471738.\u001b[0m\n",
      "\u001b[32m[I 2023-05-23 17:32:53,119]\u001b[0m Trial 43 finished with value: 2228.159596963739 and parameters: {'eta': 0.05191998792950477, 'max_depth': 10, 'num_leaves': 255, 'min_data_in_leaf': 20, 'min_gain_to_split': 4.741057189243693, 'min_sum_hessian_in_leaf': 1.271027464320476, 'subsample': 0.8219192415951626, 'feature_fraction': 0.8296163363382973, 'boosting': 'gbdt'}. Best is trial 43 with value: 2228.159596963739.\u001b[0m\n",
      "\u001b[32m[I 2023-05-23 17:32:57,516]\u001b[0m Trial 44 finished with value: 2226.78036535566 and parameters: {'eta': 0.051477816066066946, 'max_depth': 9, 'num_leaves': 255, 'min_data_in_leaf': 20, 'min_gain_to_split': 4.376364800405991, 'min_sum_hessian_in_leaf': 0.8792254560052736, 'subsample': 0.8387685023131976, 'feature_fraction': 0.8535264518938385, 'boosting': 'gbdt'}. Best is trial 44 with value: 2226.78036535566.\u001b[0m\n",
      "\u001b[32m[I 2023-05-23 17:32:59,568]\u001b[0m Trial 45 pruned. Trial was pruned at iteration 20.\u001b[0m\n",
      "\u001b[32m[I 2023-05-23 17:33:07,602]\u001b[0m Trial 46 finished with value: 2075.2410532368367 and parameters: {'eta': 0.05688986586082767, 'max_depth': 9, 'num_leaves': 255, 'min_data_in_leaf': 20, 'min_gain_to_split': 0.16750442551495404, 'min_sum_hessian_in_leaf': 0.2687257222099593, 'subsample': 0.8493305271131836, 'feature_fraction': 0.878587674756591, 'boosting': 'gbdt'}. Best is trial 46 with value: 2075.2410532368367.\u001b[0m\n",
      "\u001b[32m[I 2023-05-23 17:33:13,825]\u001b[0m Trial 47 finished with value: 2151.618233076929 and parameters: {'eta': 0.05716208939561728, 'max_depth': 9, 'num_leaves': 255, 'min_data_in_leaf': 20, 'min_gain_to_split': 0.6168959319814218, 'min_sum_hessian_in_leaf': 0.26236498755098553, 'subsample': 0.8864865117037826, 'feature_fraction': 0.8864687211471932, 'boosting': 'gbdt'}. Best is trial 46 with value: 2075.2410532368367.\u001b[0m\n",
      "\u001b[32m[I 2023-05-23 17:33:19,091]\u001b[0m Trial 48 finished with value: 2163.8704917362998 and parameters: {'eta': 0.0661500125532209, 'max_depth': 9, 'num_leaves': 255, 'min_data_in_leaf': 20, 'min_gain_to_split': 0.9170210019308764, 'min_sum_hessian_in_leaf': 0.23950036814351627, 'subsample': 0.9009058592987782, 'feature_fraction': 0.8812469322199725, 'boosting': 'gbdt'}. Best is trial 46 with value: 2075.2410532368367.\u001b[0m\n",
      "\u001b[32m[I 2023-05-23 17:33:27,158]\u001b[0m Trial 49 finished with value: 2108.266819652561 and parameters: {'eta': 0.07664872488957572, 'max_depth': 7, 'num_leaves': 255, 'min_data_in_leaf': 20, 'min_gain_to_split': 0.35411552277915437, 'min_sum_hessian_in_leaf': 0.22189629675845274, 'subsample': 0.8804800016807428, 'feature_fraction': 0.894418132133942, 'boosting': 'gbdt'}. Best is trial 46 with value: 2075.2410532368367.\u001b[0m\n",
      "\u001b[32m[I 2023-05-23 17:33:34,898]\u001b[0m Trial 50 finished with value: 2055.6390948180738 and parameters: {'eta': 0.12500756616342865, 'max_depth': 8, 'num_leaves': 255, 'min_data_in_leaf': 20, 'min_gain_to_split': 0.21252077843699707, 'min_sum_hessian_in_leaf': 0.020986146460828595, 'subsample': 0.8964896790032578, 'feature_fraction': 0.888380440217222, 'boosting': 'gbdt'}. Best is trial 50 with value: 2055.6390948180738.\u001b[0m\n",
      "\u001b[32m[I 2023-05-23 17:33:42,905]\u001b[0m Trial 51 finished with value: 2071.960617781594 and parameters: {'eta': 0.06924549825191528, 'max_depth': 7, 'num_leaves': 255, 'min_data_in_leaf': 20, 'min_gain_to_split': 0.22672170889501356, 'min_sum_hessian_in_leaf': 0.030355401129561588, 'subsample': 0.9189651731692174, 'feature_fraction': 0.9087302856711369, 'boosting': 'gbdt'}. Best is trial 50 with value: 2055.6390948180738.\u001b[0m\n",
      "\u001b[32m[I 2023-05-23 17:33:51,056]\u001b[0m Trial 52 finished with value: 1984.2579611521608 and parameters: {'eta': 0.11687267868675957, 'max_depth': 7, 'num_leaves': 255, 'min_data_in_leaf': 20, 'min_gain_to_split': 0.07270388623516136, 'min_sum_hessian_in_leaf': 0.01256536556758994, 'subsample': 0.9215379815933538, 'feature_fraction': 0.8831075816856314, 'boosting': 'gbdt'}. Best is trial 52 with value: 1984.2579611521608.\u001b[0m\n",
      "\u001b[32m[I 2023-05-23 17:33:55,510]\u001b[0m Trial 53 finished with value: 2146.5495247821887 and parameters: {'eta': 0.12129221695006828, 'max_depth': 7, 'num_leaves': 255, 'min_data_in_leaf': 20, 'min_gain_to_split': 0.6396267929673847, 'min_sum_hessian_in_leaf': 0.014955616333887792, 'subsample': 0.9675877305859379, 'feature_fraction': 0.914541493647696, 'boosting': 'gbdt'}. Best is trial 52 with value: 1984.2579611521608.\u001b[0m\n",
      "\u001b[32m[I 2023-05-23 17:33:58,812]\u001b[0m Trial 54 finished with value: 2216.960939400165 and parameters: {'eta': 0.12572107433539675, 'max_depth': 7, 'num_leaves': 255, 'min_data_in_leaf': 20, 'min_gain_to_split': 2.486452625652089, 'min_sum_hessian_in_leaf': 0.022859901566637045, 'subsample': 0.9701996437587083, 'feature_fraction': 0.9435590561868864, 'boosting': 'gbdt'}. Best is trial 52 with value: 1984.2579611521608.\u001b[0m\n",
      "\u001b[32m[I 2023-05-23 17:34:05,163]\u001b[0m Trial 55 finished with value: 2096.381785776171 and parameters: {'eta': 0.10418381263470201, 'max_depth': 7, 'num_leaves': 255, 'min_data_in_leaf': 20, 'min_gain_to_split': 0.2894194562530933, 'min_sum_hessian_in_leaf': 0.008628756043438867, 'subsample': 0.9227174740490002, 'feature_fraction': 0.94055089663108, 'boosting': 'gbdt'}. Best is trial 52 with value: 1984.2579611521608.\u001b[0m\n",
      "\u001b[32m[I 2023-05-23 17:34:08,247]\u001b[0m Trial 56 finished with value: 2224.8738393418266 and parameters: {'eta': 0.11542910593282225, 'max_depth': 5, 'num_leaves': 255, 'min_data_in_leaf': 20, 'min_gain_to_split': 2.6649531436506826, 'min_sum_hessian_in_leaf': 0.0023058536323214427, 'subsample': 0.9331309196557765, 'feature_fraction': 0.9759845072852276, 'boosting': 'gbdt'}. Best is trial 52 with value: 1984.2579611521608.\u001b[0m\n",
      "\u001b[32m[I 2023-05-23 17:34:12,207]\u001b[0m Trial 57 finished with value: 2201.1369744407652 and parameters: {'eta': 0.09500667632743191, 'max_depth': 7, 'num_leaves': 255, 'min_data_in_leaf': 20, 'min_gain_to_split': 1.7323883280785455, 'min_sum_hessian_in_leaf': 0.006867202144082953, 'subsample': 0.934558561781809, 'feature_fraction': 0.9466733475970236, 'boosting': 'gbdt'}. Best is trial 52 with value: 1984.2579611521608.\u001b[0m\n",
      "\u001b[32m[I 2023-05-23 17:34:19,651]\u001b[0m Trial 58 finished with value: 1933.9365744624768 and parameters: {'eta': 0.18868995052477497, 'max_depth': 6, 'num_leaves': 255, 'min_data_in_leaf': 20, 'min_gain_to_split': 0.1067669789031166, 'min_sum_hessian_in_leaf': 0.02332933630758901, 'subsample': 0.9912837219065174, 'feature_fraction': 0.8774041235779472, 'boosting': 'gbdt'}. Best is trial 58 with value: 1933.9365744624768.\u001b[0m\n",
      "\u001b[32m[I 2023-05-23 17:34:22,430]\u001b[0m Trial 59 finished with value: 2258.716691864054 and parameters: {'eta': 0.24750524982553787, 'max_depth': 5, 'num_leaves': 255, 'min_data_in_leaf': 20, 'min_gain_to_split': 3.1775290438903765, 'min_sum_hessian_in_leaf': 0.01911494627612403, 'subsample': 0.9925214962908524, 'feature_fraction': 0.805754592334728, 'boosting': 'gbdt'}. Best is trial 58 with value: 1933.9365744624768.\u001b[0m\n",
      "\u001b[32m[I 2023-05-23 17:34:29,991]\u001b[0m Trial 60 finished with value: 1952.7434978700257 and parameters: {'eta': 0.14828485489275825, 'max_depth': 6, 'num_leaves': 255, 'min_data_in_leaf': 20, 'min_gain_to_split': 0.0589375634903722, 'min_sum_hessian_in_leaf': 0.0018433608718709821, 'subsample': 0.9262578601257356, 'feature_fraction': 0.8651514021779112, 'boosting': 'gbdt'}. Best is trial 58 with value: 1933.9365744624768.\u001b[0m\n",
      "\u001b[32m[I 2023-05-23 17:34:37,730]\u001b[0m Trial 61 finished with value: 1939.7417403365591 and parameters: {'eta': 0.18111930699526543, 'max_depth': 6, 'num_leaves': 255, 'min_data_in_leaf': 20, 'min_gain_to_split': 0.10458111640097839, 'min_sum_hessian_in_leaf': 0.0022072579873266725, 'subsample': 0.9211509741532398, 'feature_fraction': 0.8647453808290021, 'boosting': 'gbdt'}. Best is trial 58 with value: 1933.9365744624768.\u001b[0m\n",
      "\u001b[32m[I 2023-05-23 17:34:40,696]\u001b[0m Trial 62 finished with value: 2211.175665460217 and parameters: {'eta': 0.1685830542910868, 'max_depth': 6, 'num_leaves': 255, 'min_data_in_leaf': 20, 'min_gain_to_split': 1.8868049680261478, 'min_sum_hessian_in_leaf': 0.0028510296013477122, 'subsample': 0.868263507655618, 'feature_fraction': 0.8589181537801993, 'boosting': 'gbdt'}. Best is trial 58 with value: 1933.9365744624768.\u001b[0m\n",
      "\u001b[32m[I 2023-05-23 17:34:43,293]\u001b[0m Trial 63 finished with value: 2269.195082428441 and parameters: {'eta': 0.5506707225683988, 'max_depth': 5, 'num_leaves': 255, 'min_data_in_leaf': 20, 'min_gain_to_split': 3.0858512762478707, 'min_sum_hessian_in_leaf': 0.0006100572331300093, 'subsample': 0.9104709717863305, 'feature_fraction': 0.9166521441326464, 'boosting': 'gbdt'}. Best is trial 58 with value: 1933.9365744624768.\u001b[0m\n",
      "\n",
      "Hyper-Parameter Optimization successfully finished.\n",
      "  Number of finished trials:  64\n",
      "  Best trial:\n",
      "    Value: 1933.9365744624768\n",
      "    Params: \n",
      "    eta: 0.18868995052477497\n",
      "    max_depth: 6\n",
      "    num_leaves: 255\n",
      "    min_data_in_leaf: 20\n",
      "    min_gain_to_split: 0.1067669789031166\n",
      "    min_sum_hessian_in_leaf: 0.02332933630758901\n",
      "    subsample: 0.9912837219065174\n",
      "    feature_fraction: 0.8774041235779472\n",
      "    boosting: gbdt\n",
      "    opt_rounds: 100\n"
     ]
    }
   ],
   "source": [
    "# Any LightGBM hyperparameter can be tuned, where the structure of the parameter dictionary needs to be as follows:\n",
    "\n",
    "    # Float/Int sample_type\n",
    "        # {\"param_name\": [\"sample_type\", low, high, log]}\n",
    "            # sample_type: str, Type of sampling, e.g., \"float\" or \"int\"\n",
    "            # low: int, Lower endpoint of the range of suggested values\n",
    "            # high: int, Upper endpoint of the range of suggested values\n",
    "            # log: bool, Flag to sample the value from the log domain or not\n",
    "    # Example: {\"eta\": \"float\", low=1e-5, high=1, log=True]}\n",
    "\n",
    "    # Categorical sample_type\n",
    "        # {\"param_name\": [\"sample_type\", [\"choice1\", \"choice2\", \"choice3\", \"...\"]]}\n",
    "            # sample_type: str, Type of sampling, either \"categorical\"\n",
    "            # choice1, choice2, choice3, ...: str, Possible choices for the parameter\n",
    "        # Example: {\"boosting\": [\"categorical\", [\"gbdt\", \"dart\"]]}\n",
    "\n",
    "    # For parameters without tunable choice (this is needed if tree_method = \"gpu_hist\" and gpu_id needs to be specified)\n",
    "        # {\"param_name\": [\"none\", [value]]},\n",
    "        # param_name: str, Name of the parameter\n",
    "        # value: int, Value of the parameter\n",
    "    # Example: {\"gpu_id\": [\"none\", [0]]}\n",
    "\n",
    "param_dict = {\n",
    "    \"eta\":                      [\"float\", {\"low\": 1e-5,   \"high\": 1,     \"log\": True}],\n",
    "    \"max_depth\":                [\"int\",   {\"low\": 1,      \"high\": 10,    \"log\": False}],\n",
    "    \"num_leaves\":               [\"int\",   {\"low\": 255,    \"high\": 255,   \"log\": False}],  # set to constant for this example\n",
    "    \"min_data_in_leaf\":         [\"int\",   {\"low\": 20,     \"high\": 20,    \"log\": False}],  # set to constant for this example\n",
    "    \"min_gain_to_split\":        [\"float\", {\"low\": 1e-8,   \"high\": 40,    \"log\": False}],\n",
    "    \"min_sum_hessian_in_leaf\":  [\"float\", {\"low\": 1e-8,   \"high\": 500,   \"log\": True}],\n",
    "    \"subsample\":                [\"float\", {\"low\": 0.2,    \"high\": 1.0,   \"log\": False}],\n",
    "    \"feature_fraction\":         [\"float\", {\"low\": 0.2,    \"high\": 1.0,   \"log\": False}],\n",
    "    \"boosting\":                 [\"categorical\", [\"gbdt\"]],\n",
    "}\n",
    "\n",
    "np.random.seed(123)\n",
    "opt_param = lgblss.hyper_opt(param_dict,\n",
    "                             dtrain,\n",
    "                             num_boost_round=100,        # Number of boosting iterations.\n",
    "                             nfold=5,                    # Number of cv-folds.\n",
    "                             early_stopping_rounds=20,   # Number of early-stopping rounds\n",
    "                             max_minutes=5,              # Time budget in minutes, i.e., stop study after the given number of minutes.\n",
    "                             n_trials=None,              # The number of trials. If this argument is set to None, there is no limitation on the number of trials.\n",
    "                             silence=False,              # Controls the verbosity of the trail, i.e., user can silence the outputs of the trail.\n",
    "                             seed=123,                   # Seed used to generate cv-folds.\n",
    "                             hp_seed=None                # Seed for random number generator used in the Bayesian hyperparameter search.\n",
    "                             )"
   ]
  },
  {
   "cell_type": "markdown",
   "metadata": {},
   "source": [
    "# Model Training"
   ]
  },
  {
   "cell_type": "code",
   "execution_count": 5,
   "metadata": {
    "ExecuteTime": {
     "end_time": "2023-05-18T06:57:01.202188600Z",
     "start_time": "2023-05-18T06:56:59.315239400Z"
    }
   },
   "outputs": [
    {
     "data": {
      "text/plain": [
       "<lightgbm.basic.Booster at 0x1c5cf3aa940>"
      ]
     },
     "execution_count": 5,
     "metadata": {},
     "output_type": "execute_result"
    }
   ],
   "source": [
    "np.random.seed(123)\n",
    "\n",
    "opt_params = opt_param.copy()\n",
    "n_rounds = opt_params[\"opt_rounds\"]\n",
    "del opt_params[\"opt_rounds\"]\n",
    "\n",
    "# Train Model with optimized hyperparameters\n",
    "lgblss.train(opt_params,\n",
    "             dtrain,\n",
    "             num_boost_round=n_rounds\n",
    "             )"
   ]
  },
  {
   "cell_type": "markdown",
   "metadata": {},
   "source": [
    "# Prediction"
   ]
  },
  {
   "cell_type": "code",
   "execution_count": 7,
   "metadata": {
    "ExecuteTime": {
     "end_time": "2023-05-18T06:57:02.113749300Z",
     "start_time": "2023-05-18T06:57:01.203185800Z"
    }
   },
   "outputs": [],
   "source": [
    "# Set seed for reproducibility\n",
    "torch.manual_seed(123)\n",
    "\n",
    "# Number of samples to draw from predicted distribution\n",
    "n_samples = 1000\n",
    "quant_sel = [0.05, 0.95] # Quantiles to calculate from predicted distribution\n",
    "\n",
    "# Sample from predicted distribution\n",
    "pred_samples = lgblss.predict(X_test,\n",
    "                              pred_type=\"samples\",\n",
    "                              n_samples=n_samples,\n",
    "                              seed=123)\n",
    "\n",
    "# Calculate quantiles from predicted distribution\n",
    "pred_quantiles = lgblss.predict(X_test,\n",
    "                                pred_type=\"quantiles\",\n",
    "                                n_samples=n_samples,\n",
    "                                quantiles=quant_sel)\n",
    "\n",
    "# Returns predicted distributional parameters\n",
    "pred_params = lgblss.predict(X_test,\n",
    "                             pred_type=\"parameters\")"
   ]
  },
  {
   "cell_type": "code",
   "execution_count": 8,
   "metadata": {
    "ExecuteTime": {
     "end_time": "2023-05-18T06:57:02.163617200Z",
     "start_time": "2023-05-18T06:57:02.114747Z"
    }
   },
   "outputs": [
    {
     "data": {
      "text/html": [
       "<div>\n",
       "<style scoped>\n",
       "    .dataframe tbody tr th:only-of-type {\n",
       "        vertical-align: middle;\n",
       "    }\n",
       "\n",
       "    .dataframe tbody tr th {\n",
       "        vertical-align: top;\n",
       "    }\n",
       "\n",
       "    .dataframe thead th {\n",
       "        text-align: right;\n",
       "    }\n",
       "</style>\n",
       "<table border=\"1\" class=\"dataframe\">\n",
       "  <thead>\n",
       "    <tr style=\"text-align: right;\">\n",
       "      <th></th>\n",
       "      <th>y_sample0</th>\n",
       "      <th>y_sample1</th>\n",
       "      <th>y_sample2</th>\n",
       "      <th>y_sample3</th>\n",
       "      <th>y_sample4</th>\n",
       "      <th>y_sample5</th>\n",
       "      <th>y_sample6</th>\n",
       "      <th>y_sample7</th>\n",
       "      <th>y_sample8</th>\n",
       "      <th>y_sample9</th>\n",
       "      <th>...</th>\n",
       "      <th>y_sample990</th>\n",
       "      <th>y_sample991</th>\n",
       "      <th>y_sample992</th>\n",
       "      <th>y_sample993</th>\n",
       "      <th>y_sample994</th>\n",
       "      <th>y_sample995</th>\n",
       "      <th>y_sample996</th>\n",
       "      <th>y_sample997</th>\n",
       "      <th>y_sample998</th>\n",
       "      <th>y_sample999</th>\n",
       "    </tr>\n",
       "  </thead>\n",
       "  <tbody>\n",
       "    <tr>\n",
       "      <th>0</th>\n",
       "      <td>33</td>\n",
       "      <td>28</td>\n",
       "      <td>20</td>\n",
       "      <td>27</td>\n",
       "      <td>23</td>\n",
       "      <td>45</td>\n",
       "      <td>28</td>\n",
       "      <td>28</td>\n",
       "      <td>52</td>\n",
       "      <td>32</td>\n",
       "      <td>...</td>\n",
       "      <td>52</td>\n",
       "      <td>50</td>\n",
       "      <td>10</td>\n",
       "      <td>26</td>\n",
       "      <td>27</td>\n",
       "      <td>49</td>\n",
       "      <td>10</td>\n",
       "      <td>39</td>\n",
       "      <td>47</td>\n",
       "      <td>38</td>\n",
       "    </tr>\n",
       "    <tr>\n",
       "      <th>1</th>\n",
       "      <td>25</td>\n",
       "      <td>24</td>\n",
       "      <td>19</td>\n",
       "      <td>30</td>\n",
       "      <td>15</td>\n",
       "      <td>42</td>\n",
       "      <td>20</td>\n",
       "      <td>36</td>\n",
       "      <td>25</td>\n",
       "      <td>31</td>\n",
       "      <td>...</td>\n",
       "      <td>10</td>\n",
       "      <td>44</td>\n",
       "      <td>14</td>\n",
       "      <td>62</td>\n",
       "      <td>13</td>\n",
       "      <td>25</td>\n",
       "      <td>17</td>\n",
       "      <td>19</td>\n",
       "      <td>27</td>\n",
       "      <td>17</td>\n",
       "    </tr>\n",
       "    <tr>\n",
       "      <th>2</th>\n",
       "      <td>13</td>\n",
       "      <td>16</td>\n",
       "      <td>21</td>\n",
       "      <td>14</td>\n",
       "      <td>28</td>\n",
       "      <td>18</td>\n",
       "      <td>18</td>\n",
       "      <td>29</td>\n",
       "      <td>13</td>\n",
       "      <td>8</td>\n",
       "      <td>...</td>\n",
       "      <td>8</td>\n",
       "      <td>11</td>\n",
       "      <td>31</td>\n",
       "      <td>16</td>\n",
       "      <td>40</td>\n",
       "      <td>16</td>\n",
       "      <td>9</td>\n",
       "      <td>15</td>\n",
       "      <td>12</td>\n",
       "      <td>18</td>\n",
       "    </tr>\n",
       "    <tr>\n",
       "      <th>3</th>\n",
       "      <td>20</td>\n",
       "      <td>16</td>\n",
       "      <td>17</td>\n",
       "      <td>1</td>\n",
       "      <td>5</td>\n",
       "      <td>10</td>\n",
       "      <td>10</td>\n",
       "      <td>7</td>\n",
       "      <td>10</td>\n",
       "      <td>9</td>\n",
       "      <td>...</td>\n",
       "      <td>22</td>\n",
       "      <td>13</td>\n",
       "      <td>19</td>\n",
       "      <td>5</td>\n",
       "      <td>5</td>\n",
       "      <td>23</td>\n",
       "      <td>13</td>\n",
       "      <td>12</td>\n",
       "      <td>24</td>\n",
       "      <td>9</td>\n",
       "    </tr>\n",
       "    <tr>\n",
       "      <th>4</th>\n",
       "      <td>5</td>\n",
       "      <td>10</td>\n",
       "      <td>12</td>\n",
       "      <td>2</td>\n",
       "      <td>6</td>\n",
       "      <td>9</td>\n",
       "      <td>6</td>\n",
       "      <td>8</td>\n",
       "      <td>5</td>\n",
       "      <td>8</td>\n",
       "      <td>...</td>\n",
       "      <td>6</td>\n",
       "      <td>1</td>\n",
       "      <td>10</td>\n",
       "      <td>8</td>\n",
       "      <td>7</td>\n",
       "      <td>3</td>\n",
       "      <td>2</td>\n",
       "      <td>4</td>\n",
       "      <td>2</td>\n",
       "      <td>5</td>\n",
       "    </tr>\n",
       "  </tbody>\n",
       "</table>\n",
       "<p>5 rows × 1000 columns</p>\n",
       "</div>"
      ],
      "text/plain": [
       "   y_sample0  y_sample1  y_sample2  y_sample3  y_sample4  y_sample5   \n",
       "0         33         28         20         27         23         45  \\\n",
       "1         25         24         19         30         15         42   \n",
       "2         13         16         21         14         28         18   \n",
       "3         20         16         17          1          5         10   \n",
       "4          5         10         12          2          6          9   \n",
       "\n",
       "   y_sample6  y_sample7  y_sample8  y_sample9  ...  y_sample990  y_sample991   \n",
       "0         28         28         52         32  ...           52           50  \\\n",
       "1         20         36         25         31  ...           10           44   \n",
       "2         18         29         13          8  ...            8           11   \n",
       "3         10          7         10          9  ...           22           13   \n",
       "4          6          8          5          8  ...            6            1   \n",
       "\n",
       "   y_sample992  y_sample993  y_sample994  y_sample995  y_sample996   \n",
       "0           10           26           27           49           10  \\\n",
       "1           14           62           13           25           17   \n",
       "2           31           16           40           16            9   \n",
       "3           19            5            5           23           13   \n",
       "4           10            8            7            3            2   \n",
       "\n",
       "   y_sample997  y_sample998  y_sample999  \n",
       "0           39           47           38  \n",
       "1           19           27           17  \n",
       "2           15           12           18  \n",
       "3           12           24            9  \n",
       "4            4            2            5  \n",
       "\n",
       "[5 rows x 1000 columns]"
      ]
     },
     "execution_count": 8,
     "metadata": {},
     "output_type": "execute_result"
    }
   ],
   "source": [
    "pred_samples.head()"
   ]
  },
  {
   "cell_type": "code",
   "execution_count": 9,
   "metadata": {
    "ExecuteTime": {
     "end_time": "2023-05-18T06:57:02.186554200Z",
     "start_time": "2023-05-18T06:57:02.146661700Z"
    }
   },
   "outputs": [
    {
     "data": {
      "text/html": [
       "<div>\n",
       "<style scoped>\n",
       "    .dataframe tbody tr th:only-of-type {\n",
       "        vertical-align: middle;\n",
       "    }\n",
       "\n",
       "    .dataframe tbody tr th {\n",
       "        vertical-align: top;\n",
       "    }\n",
       "\n",
       "    .dataframe thead th {\n",
       "        text-align: right;\n",
       "    }\n",
       "</style>\n",
       "<table border=\"1\" class=\"dataframe\">\n",
       "  <thead>\n",
       "    <tr style=\"text-align: right;\">\n",
       "      <th></th>\n",
       "      <th>quant_0.05</th>\n",
       "      <th>quant_0.95</th>\n",
       "    </tr>\n",
       "  </thead>\n",
       "  <tbody>\n",
       "    <tr>\n",
       "      <th>0</th>\n",
       "      <td>13</td>\n",
       "      <td>58</td>\n",
       "    </tr>\n",
       "    <tr>\n",
       "      <th>1</th>\n",
       "      <td>9</td>\n",
       "      <td>47</td>\n",
       "    </tr>\n",
       "    <tr>\n",
       "      <th>2</th>\n",
       "      <td>6</td>\n",
       "      <td>36</td>\n",
       "    </tr>\n",
       "    <tr>\n",
       "      <th>3</th>\n",
       "      <td>3</td>\n",
       "      <td>24</td>\n",
       "    </tr>\n",
       "    <tr>\n",
       "      <th>4</th>\n",
       "      <td>1</td>\n",
       "      <td>15</td>\n",
       "    </tr>\n",
       "  </tbody>\n",
       "</table>\n",
       "</div>"
      ],
      "text/plain": [
       "   quant_0.05  quant_0.95\n",
       "0          13          58\n",
       "1           9          47\n",
       "2           6          36\n",
       "3           3          24\n",
       "4           1          15"
      ]
     },
     "execution_count": 9,
     "metadata": {},
     "output_type": "execute_result"
    }
   ],
   "source": [
    "pred_quantiles.head()"
   ]
  },
  {
   "cell_type": "code",
   "execution_count": 10,
   "metadata": {
    "ExecuteTime": {
     "end_time": "2023-05-18T06:57:02.233679600Z",
     "start_time": "2023-05-18T06:57:02.160625600Z"
    }
   },
   "outputs": [
    {
     "data": {
      "text/html": [
       "<div>\n",
       "<style scoped>\n",
       "    .dataframe tbody tr th:only-of-type {\n",
       "        vertical-align: middle;\n",
       "    }\n",
       "\n",
       "    .dataframe tbody tr th {\n",
       "        vertical-align: top;\n",
       "    }\n",
       "\n",
       "    .dataframe thead th {\n",
       "        text-align: right;\n",
       "    }\n",
       "</style>\n",
       "<table border=\"1\" class=\"dataframe\">\n",
       "  <thead>\n",
       "    <tr style=\"text-align: right;\">\n",
       "      <th></th>\n",
       "      <th>total_count</th>\n",
       "      <th>probs</th>\n",
       "    </tr>\n",
       "  </thead>\n",
       "  <tbody>\n",
       "    <tr>\n",
       "      <th>0</th>\n",
       "      <td>6.795483</td>\n",
       "      <td>0.826296</td>\n",
       "    </tr>\n",
       "    <tr>\n",
       "      <th>1</th>\n",
       "      <td>6.390824</td>\n",
       "      <td>0.797698</td>\n",
       "    </tr>\n",
       "    <tr>\n",
       "      <th>2</th>\n",
       "      <td>5.651881</td>\n",
       "      <td>0.767255</td>\n",
       "    </tr>\n",
       "    <tr>\n",
       "      <th>3</th>\n",
       "      <td>5.114201</td>\n",
       "      <td>0.689337</td>\n",
       "    </tr>\n",
       "    <tr>\n",
       "      <th>4</th>\n",
       "      <td>4.382565</td>\n",
       "      <td>0.614175</td>\n",
       "    </tr>\n",
       "  </tbody>\n",
       "</table>\n",
       "</div>"
      ],
      "text/plain": [
       "   total_count     probs\n",
       "0     6.795483  0.826296\n",
       "1     6.390824  0.797698\n",
       "2     5.651881  0.767255\n",
       "3     5.114201  0.689337\n",
       "4     4.382565  0.614175"
      ]
     },
     "execution_count": 10,
     "metadata": {},
     "output_type": "execute_result"
    }
   ],
   "source": [
    "pred_params.head()"
   ]
  }
 ],
 "metadata": {
  "kernelspec": {
   "display_name": "Python 3 (ipykernel)",
   "language": "python",
   "name": "python3"
  },
  "language_info": {
   "codemirror_mode": {
    "name": "ipython",
    "version": 3
   },
   "file_extension": ".py",
   "mimetype": "text/x-python",
   "name": "python",
   "nbconvert_exporter": "python",
   "pygments_lexer": "ipython3",
   "version": "3.9.0"
  }
 },
 "nbformat": 4,
 "nbformat_minor": 4
}
